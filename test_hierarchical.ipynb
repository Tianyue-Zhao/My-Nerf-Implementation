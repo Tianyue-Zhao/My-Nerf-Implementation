{
 "cells": [
  {
   "cell_type": "code",
   "execution_count": 260,
   "metadata": {},
   "outputs": [],
   "source": [
    "import torch\n",
    "import matplotlib.pyplot as plt\n",
    "import numpy as np\n",
    "\n",
    "def cumprod_exclusive(\n",
    "  tensor: torch.Tensor\n",
    ") -> torch.Tensor:\n",
    "  r\"\"\"\n",
    "  (Courtesy of https://github.com/krrish94/nerf-pytorch)\n",
    "\n",
    "  Mimick functionality of tf.math.cumprod(..., exclusive=True), as it isn't available in PyTorch.\n",
    "\n",
    "  Args:\n",
    "  tensor (torch.Tensor): Tensor whose cumprod (cumulative product, see `torch.cumprod`) along dim=-1\n",
    "    is to be computed.\n",
    "  Returns:\n",
    "  cumprod (torch.Tensor): cumprod of Tensor along dim=-1, mimiciking the functionality of\n",
    "    tf.math.cumprod(..., exclusive=True) (see `tf.math.cumprod` for details).\n",
    "  \"\"\"\n",
    "\n",
    "  # Compute regular cumprod first (this is equivalent to `tf.math.cumprod(..., exclusive=False)`).\n",
    "  cumprod = torch.cumprod(tensor, 1)\n",
    "  # \"Roll\" the elements along dimension 'dim' by 1 element.\n",
    "  cumprod = torch.roll(cumprod, 1, 1)\n",
    "  # Replace the first element by \"1\" as this is what tf.cumprod(..., exclusive=True) does.\n",
    "  cumprod[..., 0] = 1.\n",
    "  \n",
    "  return cumprod\n",
    "\n",
    "def sample_points_weighted(rays, sigma_value, distances, num_samples, fine_samples):\n",
    "    num_total = num_samples + fine_samples\n",
    "    points = rays[:, None, :3]\n",
    "    points = torch.tensor(points, device = sigma_value.device, dtype = torch.float32)\n",
    "    directions = rays[:, None, 3:]\n",
    "    directions = torch.tensor(directions, device = sigma_value.device, dtype = torch.float32)\n",
    "    distances = distances[:, :]\n",
    "    interval_lengths = distances[:, 1:] - distances[:, :-1]\n",
    "\n",
    "    # Translate sigma to weights\n",
    "    sigma_value = torch.reshape(sigma_value, (-1, num_samples))\n",
    "    interval_lengths = torch.cat([interval_lengths,\\\n",
    "        1e9 * torch.ones((interval_lengths.shape[0], 1), device = interval_lengths.device)], dim = 1)\n",
    "    alpha = 1 - torch.exp(-sigma_value * interval_lengths * 100) # Each point approximates values for the interval after it\n",
    "    weights = alpha * cumprod_exclusive(1 - alpha + 1e-9)\n",
    "    print(weights[0, :])\n",
    "\n",
    "    # Sample points to translate from the weight distribution\n",
    "    weights = weights[:, 1:-1] + 1e-5\n",
    "    pdf = weights / torch.sum(weights, dim = 1, keepdim = True)\n",
    "    cdf = torch.cumsum(pdf, dim = 1)\n",
    "    cdf = torch.cat([torch.zeros_like(cdf[:, :1]), cdf], dim = 1)\n",
    "    samples = torch.rand((cdf.shape[0], fine_samples), device = sigma_value.device)\n",
    "    samples = samples.contiguous()\n",
    "    indices = torch.searchsorted(cdf, samples, right = True) # Rays x fine_samples\n",
    "    indices = torch.min((num_samples - 2) * torch.ones_like(indices), indices)\n",
    "    if(torch.min(indices) < 1):\n",
    "        print(\"At most 0 somehow\")\n",
    "        print(torch.min(indices))\n",
    "        print(cdf.shape)\n",
    "        exit()\n",
    "\n",
    "    # Sample on distribution\n",
    "    new_distances = 0.5 * (distances[:, 1:] + distances[:, :-1]) # Taking the midpoints according to the original code\n",
    "    interval_lengths = new_distances[:, 1:] - new_distances[:, :-1] # The lengths of the intervals between points\n",
    "    near_distances = torch.gather(new_distances, 1, indices - 1) # The near distance of the interval each selected point is in\n",
    "    interval_lengths = torch.gather(interval_lengths, 1, indices - 1)\n",
    "    probability_interval = torch.gather(pdf, 1, indices - 1)\n",
    "    probability_start = torch.gather(cdf, 1, indices - 1)\n",
    "    new_distances = near_distances + (samples - probability_start) * interval_lengths / probability_interval\n",
    "\n",
    "    # Calculate points and merge\n",
    "    distances = torch.cat([distances, new_distances], dim = 1)\n",
    "    distances, sort_indices = torch.sort(distances, dim = 1)\n",
    "    points = points + distances[:, :, None] * directions\n",
    "    points = points.reshape((-1, 3))\n",
    "    directions = torch.cat([directions] * num_total, dim = 1)\n",
    "    directions = directions.reshape((-1, 3))\n",
    "    return points, directions, distances"
   ]
  },
  {
   "cell_type": "code",
   "execution_count": 261,
   "metadata": {},
   "outputs": [],
   "source": [
    "rays = [[1, 1, 1, 1, 0, 0],\n",
    "        [1, 1, 1, 0, 1, 0],\n",
    "        [1, 1, 1, 0, 0, 1],\n",
    "        [0, 0, 0, 0, 1, 0],\n",
    "        [0, 0, 0, 1, 0, 0],\n",
    "        [0, 0, 0, 0, 0, 1],\n",
    "        [1, 2, 2, 0, 1, 0],\n",
    "        [1, 2, 2, 0, 1, 0],\n",
    "        [1, 2, 2, 0, 1, 0]]\n",
    "\n",
    "num_samples = 6\n",
    "fine_samples = 10\n",
    "sigma_value = [0.001, 0.001, 0.01, 0.8, 0.01, 0.01]\n",
    "distances = [0.1, 0.2, 0.29, 0.38, 0.48, 0.57]\n",
    "sigma_value = torch.tensor(sigma_value)\n",
    "sigma_value = torch.stack([sigma_value] * len(rays), dim = 0)\n",
    "distances = torch.tensor(distances)\n",
    "distances = torch.stack([distances] * len(rays), dim = 0)\n",
    "rgb_value = torch.zeros((len(rays), num_samples, 3))\n",
    "rays = np.asarray(rays)"
   ]
  },
  {
   "cell_type": "code",
   "execution_count": 278,
   "metadata": {},
   "outputs": [
    {
     "name": "stdout",
     "output_type": "stream",
     "text": [
      "tensor([9.9502e-03, 8.8705e-03, 8.4449e-02, 8.9643e-01, 2.5891e-05, 2.7492e-04])\n"
     ]
    },
    {
     "data": {
      "text/plain": [
       "[<matplotlib.lines.Line2D at 0x7ff4b02e5070>]"
      ]
     },
     "execution_count": 278,
     "metadata": {},
     "output_type": "execute_result"
    },
    {
     "data": {
      "image/png": "[encoded data removed]",
      "text/plain": [
       "<Figure size 432x288 with 1 Axes>"
      ]
     },
     "metadata": {
      "needs_background": "light"
     },
     "output_type": "display_data"
    }
   ],
   "source": [
    "points, directions, all_distances = sample_points_weighted(rays, sigma_value, distances, num_samples, fine_samples)\n",
    "fig, ax = plt.subplots()\n",
    "ax.plot(distances.numpy()[0, :], torch.ones(num_samples), 'b-o')\n",
    "ax.plot(all_distances.numpy()[0, :], torch.zeros(num_samples + fine_samples), 'r-o')"
   ]
  }
 ],
 "metadata": {
  "kernelspec": {
   "display_name": "3DML",
   "language": "python",
   "name": "python3"
  },
  "language_info": {
   "codemirror_mode": {
    "name": "ipython",
    "version": 3
   },
   "file_extension": ".py",
   "mimetype": "text/x-python",
   "name": "python",
   "nbconvert_exporter": "python",
   "pygments_lexer": "ipython3",
   "version": "3.8.0"
  },
  "orig_nbformat": 4,
  "vscode": {
   "interpreter": {
    "hash": "7ba1072ec1f3e62d1a3b5a728a0f2304e60198da2eb6e323bf2a159a982a317e"
   }
  }
 },
 "nbformat": 4,
 "nbformat_minor": 2
}
